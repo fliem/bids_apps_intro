{
 "cells": [
  {
   "cell_type": "markdown",
   "metadata": {
    "slideshow": {
     "slide_type": "subslide"
    }
   },
   "source": [
    "# BIDS Apps\n",
    "**Franz Liem (franziskus.liem@uzh.ch)**\n",
    "\n",
    "\n",
    "This tutorial aims to introduce BIDS Apps.\n",
    "After briefly introducing some background, we will run the mriqc BIDS App on\n",
    "our laptops to get quality reports for MRI data."
   ]
  },
  {
   "cell_type": "markdown",
   "metadata": {
    "slideshow": {
     "slide_type": "slide"
    }
   },
   "source": [
    "# Before we start\n",
    "\n",
    "* Laptop with Docker installed\n",
    "(see guides for\n",
    "[mac](https://docs.docker.com/docker-for-mac/install/),\n",
    "[windows](https://docs.docker.com/docker-for-windows/install/),\n",
    "[linux](https://docs.docker.com/install/linux/docker-ce/ubuntu/))\n",
    "* if possible, already download (pull) the docker container we will be\n",
    "using:\n",
    "    * open a terminal window/command line\n",
    "    * paste the following command: `docker pull poldracklab/mriqc:0.10.4`\n",
    "    * press enter and wait for the download to be finished\n",
    "* [download](https://osf.io/fsyq2/download) the this BIDS-formatted\n",
    "example data set (430 MB)"
   ]
  },
  {
   "cell_type": "markdown",
   "metadata": {
    "slideshow": {
     "slide_type": "slide"
    }
   },
   "source": [
    "# Background\n",
    "\n",
    "## Neuroimaging software\n",
    "\n",
    "* Installation of neuroimaging software can be painful\n",
    "* Complex workflows might require to install multiple software packages\n",
    "* Needs to be repeated for new system (e.g., cloud system)\n",
    "* Different software version might give different results\n",
    "\n",
    "**Makes it more difficult to reproduce analyses**"
   ]
  },
  {
   "cell_type": "markdown",
   "metadata": {
    "slideshow": {
     "slide_type": "subslide"
    }
   },
   "source": [
    "## What is BIDS\n",
    "* [Brain Imaging Data Structure](http://bids.neuroimaging.io)\n",
    "* A standardized way to represent data and metadata from neuroimaging studies\n",
    "* [Gorgolewski et al., 2016](https://www.nature.com/articles/sdata201644)"
   ]
  },
  {
   "cell_type": "markdown",
   "metadata": {
    "slideshow": {
     "slide_type": "subslide"
    }
   },
   "source": [
    "## What are BIDS Apps\n",
    "* Portable neuroimaging pipelines shipped as **software containers**\n",
    "* Understand [BIDS](http://bids.neuroimaging.io)\n",
    "* Developed by different labs all over the world\n",
    "* [http://bids-apps.neuroimaging.io](http://bids-apps.neuroimaging.io), [Gorgolewski et al., 2017](http://journals.plos.org/ploscompbiol/article?id=10.1371/journal.pcbi.1005209)"
   ]
  },
  {
   "cell_type": "markdown",
   "metadata": {
    "slideshow": {
     "slide_type": "subslide"
    }
   },
   "source": [
    "![bids-apps.neuroimaging.io/apps/](images/bids_apps.png)"
   ]
  },
  {
   "cell_type": "markdown",
   "metadata": {
    "slideshow": {
     "slide_type": "subslide"
    }
   },
   "source": [
    "## BIDS Apps examples\n",
    "\n",
    "### Data quality\n",
    "\n",
    "* mriqc\n",
    "* qap\n",
    "\n",
    "### Functional MRI\n",
    "\n",
    "* cpac\n",
    "* fmriprep\n",
    "* niak\n",
    "\n",
    "### Structural MRI\n",
    "\n",
    "* antsCorticalThickness\n",
    "* baracus\n",
    "* freesurfer\n",
    "* mindboggle\n",
    "* tracula"
   ]
  },
  {
   "cell_type": "markdown",
   "metadata": {
    "slideshow": {
     "slide_type": "subslide"
    }
   },
   "source": [
    "## What are software containers\n",
    "\n",
    "* A box that has software in it\n",
    "* You don't need to install single software packages\n",
    "* You just need to download/install\n",
    "    * the container\n",
    "    * a software that runs the container"
   ]
  },
  {
   "cell_type": "markdown",
   "metadata": {
    "slideshow": {
     "slide_type": "subslide"
    }
   },
   "source": [
    "## BIDS Apps: software containers for neuroimaging data analysis\n",
    "\n",
    "* Simple to apply analysis to \n",
    "    * new data\n",
    "    * separate samples (e.g., collaboration where each site does not share raw data)\n",
    "    \n",
    "\n",
    "<br>\n",
    "\n",
    "* Simple to create for new applications\n",
    "\n",
    "    1. Dockerfile with recipe for installation\n",
    "    \n",
    "    ```\n",
    "    [...]\n",
    "    RUN apt-get install [...]\n",
    "    RUN conda install[...]\n",
    "    [...]\n",
    "    \n",
    "    ```\n",
    "\n",
    "    1. Build image\n",
    "    \n",
    "    `docker build -t {name} .`\n"
   ]
  },
  {
   "cell_type": "markdown",
   "metadata": {
    "slideshow": {
     "slide_type": "subslide"
    }
   },
   "source": [
    "## What is [Docker](https://www.docker.com/what-docker)\n",
    "A software that executes software containers.\n",
    "\n",
    "[Getting started with Docker](https://docs.docker.com/get-started/)"
   ]
  },
  {
   "cell_type": "markdown",
   "metadata": {
    "slideshow": {
     "slide_type": "slide"
    }
   },
   "source": [
    "# Running BIDS Apps\n",
    "\n",
    "## BIDS Apps are plug-and-play\n",
    "\n",
    "#### To process your data, you only need to specify\n",
    "\n",
    "* BIDS App\n",
    "* Input folder (with BIDS-formatted data)\n",
    "* Output folder that stores the results"
   ]
  },
  {
   "cell_type": "markdown",
   "metadata": {
    "slideshow": {
     "slide_type": "subslide"
    }
   },
   "source": [
    "## [mriqc](http://mriqc.readthedocs.io)\n",
    "* MRI quality control tool\n",
    "* Developed by the [Poldrack Lab](https://poldracklab.stanford.edu/)\n",
    "* Structural and functional MRI data"
   ]
  },
  {
   "cell_type": "markdown",
   "metadata": {
    "slideshow": {
     "slide_type": "subslide"
    }
   },
   "source": [
    "## mriqc\n",
    "#### Two analysis levels\n",
    "\n",
    "* participant\n",
    "* group"
   ]
  },
  {
   "cell_type": "markdown",
   "metadata": {
    "slideshow": {
     "slide_type": "subslide"
    }
   },
   "source": [
    "## mriqc\n",
    "#### Results\n",
    "\n",
    "* visual reports\n",
    "* IQMs (Image Quality Metrics; see [Esteban et al.,  2017](http://journals.plos.org/plosone/article/figure?id=10.1371/journal.pone.0184661.t002)\n",
    ")\n",
    "\n",
    "![](images/journal.pone.0184661.g005.PNG)\n",
    "\n",
    "[Fig 5, Esteban et al.,  2017](http://journals.plos.org/plosone/article/figure/image?size=medium&id=info:doi/10.1371/journal.pone.0184661.g005)"
   ]
  },
  {
   "cell_type": "markdown",
   "metadata": {
    "slideshow": {
     "slide_type": "subslide"
    }
   },
   "source": [
    "## BIDS Apps in the cloud\n",
    "[OpenNeuro](www.openneuro.org)"
   ]
  },
  {
   "cell_type": "markdown",
   "metadata": {
    "slideshow": {
     "slide_type": "slide"
    }
   },
   "source": [
    "# Hands-on\n",
    "We will now run mriqc on example data from the\n",
    "[ABIDE](http://fcon_1000.projects.nitrc.org/indi/abide/abide_I.html) study.\n",
    "\n",
    "See `00Info.txt` for furhter details.\n",
    "\n",
    "#### Data location\n",
    "[Download the example data](https://osf.io/fsyq2/download) and unpack it \n",
    "into `~/data` (or adapt the paths in the examples accordingly).\n",
    "\n",
    "There should now be a folder **`~/data/databids_apps_data`** with the data inside.\n",
    "\n",
    "```\n",
    "|-- 00Info.txt\n",
    "|-- derivates\n",
    "|-- sourcedata\n",
    "```"
   ]
  },
  {
   "cell_type": "markdown",
   "metadata": {
    "slideshow": {
     "slide_type": "subslide"
    }
   },
   "source": [
    "### BIDS sourcedata\n",
    "```\n",
    "|-- sourcedata\n",
    "    |-- T1w.json\n",
    "    |-- sub-0051160\n",
    "        |-- anat\n",
    "            |-- sub-0051160_T1w.nii.gz\n",
    "```"
   ]
  },
  {
   "cell_type": "markdown",
   "metadata": {
    "slideshow": {
     "slide_type": "subslide"
    }
   },
   "source": [
    "### Precomputed mriqc data\n",
    "```\n",
    "|-- derivates\n",
    "|   |-- mriqc_0.10.4_precomputed\n",
    "|       |-- 00INFO.txt\n",
    "|       |-- derivatives\n",
    "|       |   |-- sub-0051160_T1w.json\n",
    "|       |   |-- ....\n",
    "|       |-- logs\n",
    "|       |-- reports\n",
    "|           |-- sub-0051160_T1w.html\n",
    "|           |-- ...\n",
    "...\n",
    "```"
   ]
  },
  {
   "cell_type": "markdown",
   "metadata": {
    "slideshow": {
     "slide_type": "subslide"
    }
   },
   "source": [
    "## Download image with `docker pull`\n",
    "\n",
    "* BIDS Apps provide images on [Docker Hub](http://hub.docker.com), e.g.,\n",
    "[mriqc](https://hub.docker.com/r/poldracklab/mriqc/)\n",
    "* Docker Hub images can be downloaded with the `docker pull` command\n",
    "\n",
    "\n",
    "\n",
    "**`docker pull poldracklab/mriqc:0.10.4`**\n",
    "\n",
    "downloads tag (version) `0.10.4` of image `poldracklab/mriqc`"
   ]
  },
  {
   "cell_type": "markdown",
   "metadata": {
    "slideshow": {
     "slide_type": "subslide"
    }
   },
   "source": [
    "## List of available mriqc tags\n",
    "\n",
    "[hub.docker.com/r/poldracklab/mriqc/tags/](https://hub.docker.com/r/poldracklab/mriqc/tags/)\n",
    "\n",
    "![](images/dh.png)"
   ]
  },
  {
   "cell_type": "markdown",
   "metadata": {
    "slideshow": {
     "slide_type": "subslide"
    }
   },
   "source": [
    "## Get a list of locally available images\n",
    "**`docker images`**\n",
    "\n",
    "gives you a list of all images that are downloaded to your computer"
   ]
  },
  {
   "cell_type": "markdown",
   "metadata": {
    "slideshow": {
     "slide_type": "subslide"
    }
   },
   "source": [
    "## Running an analysis\n",
    "\n",
    "### mriqc help\n",
    "To print help text for mriqc run\n",
    "\n",
    "`docker run --rm -ti poldracklab/mriqc:0.10.4 -h`"
   ]
  },
  {
   "cell_type": "markdown",
   "metadata": {
    "slideshow": {
     "slide_type": "subslide"
    }
   },
   "source": [
    "### Architecture of a command\n",
    "`docker run --rm -it \\`\n",
    "\n",
    "`-v [...] \\`\n",
    "\n",
    "`image_name bids_dir output_dir analysis_level`"
   ]
  },
  {
   "cell_type": "markdown",
   "metadata": {
    "slideshow": {
     "slide_type": "subslide"
    }
   },
   "source": [
    "### Participant level\n",
    "\n",
    "```\n",
    "docker run --rm -it \\\n",
    "-v ~/data/bids_apps_data/sourcedata:/d/in:ro \\\n",
    "-v ~/data/bids_apps_data/derivates/mriqc_0.10.4:/d/out \\\n",
    "poldracklab/mriqc:0.10.4 /d/in /d/out participant\n",
    "```"
   ]
  },
  {
   "cell_type": "markdown",
   "metadata": {
    "slideshow": {
     "slide_type": "subslide"
    }
   },
   "source": [
    "### Participant level command: line 1\n",
    "**`docker run --rm -it \\`**\n",
    "\n",
    "`-v ~/data/bids_apps_data/sourcedata:/d/in:ro \\`\n",
    "\n",
    "`-v ~/data/bids_apps_data/derivates/mriqc_0.10.4:/d/out \\`\n",
    "\n",
    "`poldracklab/mriqc:0.10.4 /d/in /d/out participant`\n",
    "\n",
    "* Run a docker container\n",
    "* Clean up after the container exits\n",
    "* Run it in interactive mode"
   ]
  },
  {
   "cell_type": "markdown",
   "metadata": {
    "slideshow": {
     "slide_type": "subslide"
    }
   },
   "source": [
    "### Participant level command: line 2\n",
    "`docker run --rm -it \\`\n",
    "\n",
    "**`-v ~/data/bids_apps_data/sourcedata:/d/in:ro \\`**\n",
    "\n",
    "`-v ~/data/bids_apps_data/derivates/mriqc_0.10.4:/d/out \\`\n",
    "\n",
    "`poldracklab/mriqc:0.10.4 /d/in /d/out participant`\n",
    "\n",
    "\n",
    "* By default, docker does not have access to data on the HD\n",
    "* `-v` (or `--volume`) makes a folder on your HD available inside the docker container\n",
    "* `-v {folder_name_on_HD}:{folder_name_inside_container}:[{mode, e.g., ro}]`"
   ]
  },
  {
   "cell_type": "markdown",
   "metadata": {
    "slideshow": {
     "slide_type": "fragment"
    }
   },
   "source": [
    "* `~/data/bids_apps_data/sourcedata` is a folder on my HD, it contains the input data\n",
    "* the docker container will see this folder as `/d/in`\n",
    "* it will not be able to write into this folder (`ro`: read only)"
   ]
  },
  {
   "cell_type": "markdown",
   "metadata": {
    "slideshow": {
     "slide_type": "subslide"
    }
   },
   "source": [
    "### Participant level command: line 3\n",
    "`docker run --rm -it \\`\n",
    "\n",
    "`-v ~/data/bids_apps_data/sourcedata:/d/in:ro \\`\n",
    "\n",
    "**`-v ~/data/bids_apps_data/derivates/mriqc_0.10.4:/d/out \\`**\n",
    "\n",
    "`poldracklab/mriqc:0.10.4 /d/in /d/out participant`\n",
    "\n",
    "\n",
    "\n",
    "* `~/data/bids_apps_data/derivates/mriqc_0.10.4:` is a folder on my HD, it will be populated with the output data\n",
    "* the docker container will see this folder as `/d/out`\n",
    "* no other option is given: docker will be able to write into this folder"
   ]
  },
  {
   "cell_type": "markdown",
   "metadata": {
    "slideshow": {
     "slide_type": "subslide"
    }
   },
   "source": [
    "### Participant level command: line 4\n",
    "`docker run --rm -it \\`\n",
    "\n",
    "`-v ~/data/bids_apps_data/sourcedata:/d/in:ro \\`\n",
    "\n",
    "`-v ~/data/bids_apps_data/derivates/mriqc_0.10.4:/d/out \\`\n",
    "\n",
    "**`poldracklab/mriqc:0.10.4 /d/in /d/out participant`**\n",
    "\n",
    "* `poldracklab/mriqc:0.10.4`: software image to use\n",
    "* `/d/in`: bids_dir, folder with input data (has to be visible inside container)\n",
    "* `/d/out`: output_dir, folder for output data (has to be visible inside container)\n",
    "* `participant`: analysis level (options are: `participant`, `group`)"
   ]
  },
  {
   "cell_type": "markdown",
   "metadata": {
    "slideshow": {
     "slide_type": "subslide"
    }
   },
   "source": [
    "### Running the participant level analysis on your laptop\n",
    "```\n",
    "docker run --rm -it \\\n",
    "-v ~/data/bids_apps_data/sourcedata:/d/in:ro \\\n",
    "-v ~/data/bids_apps_data/derivates/mriqc_0.10.4:/d/out \\\n",
    "poldracklab/mriqc:0.10.4 /d/in /d/out participant\n",
    "```\n",
    "\n",
    "**This might take 15 min**"
   ]
  },
  {
   "cell_type": "markdown",
   "metadata": {
    "slideshow": {
     "slide_type": "subslide"
    }
   },
   "source": [
    "### Adding options\n",
    "Take a look at mriqc's help for a list of options\n",
    "\n",
    "<br>   \n",
    "      \n",
    "`docker run --rm -it \\`\n",
    "\n",
    "`-v ~/data/bids_apps_data/sourcedata:/d/in:ro \\`\n",
    "\n",
    "`-v ~/data/bids_apps_data/derivates/mriqc_0.10.4:/d/out \\`\n",
    "\n",
    "`poldracklab/mriqc:0.10.4 /d/in /d/out participant \\`\n",
    "\n",
    "**`--participant_label 0051160 --n_procs 2`**\n"
   ]
  },
  {
   "cell_type": "markdown",
   "metadata": {
    "slideshow": {
     "slide_type": "subslide"
    }
   },
   "source": [
    "### Participant level outputs\n",
    "\n",
    "Outputs in derivates/mriqc_0.10.4\n",
    "\n",
    "* derivatives/sub-{subject}_T1w.json\n",
    "* reports/sub-{subject}_T1w.html\n",
    "\n",
    "Open one of the precomputed outputs in\n",
    "`bids_apps_data/derivates/mriqc_0.10.4_precomputed/reports/`"
   ]
  },
  {
   "cell_type": "markdown",
   "metadata": {
    "slideshow": {
     "slide_type": "subslide"
    }
   },
   "source": [
    "### Running the group level analysis on your laptop\n",
    "Requires participant level analysis.\n",
    "To speed things up, the example data has precomputed participant level data in `derivates/mriqc_0.10.4_precomputed`.\n",
    "\n",
    "To run the group analysis, just replace **`participant`** with **`group`**.\n",
    "\n",
    "\n",
    "```\n",
    "docker run --rm -it \\\n",
    "-v ~/data/bids_apps_data/sourcedata:/d/in:ro \\\n",
    "-v ~/data/bids_apps_data/derivates/mriqc_0.10.4_precomputed:/d/out \\\n",
    "poldracklab/mriqc:0.10.4 /d/in /d/out group\n",
    "```\n",
    "\n",
    "\n",
    "**This will take a couple of seconds**"
   ]
  },
  {
   "cell_type": "markdown",
   "metadata": {
    "slideshow": {
     "slide_type": "subslide"
    }
   },
   "source": [
    "### Group level outputs\n",
    "\n",
    "Outputs in derivates/mriqc_0.10.4_precomputed\n",
    "\n",
    "* T1w.csv\n",
    "* reports/T1w_group.html"
   ]
  },
  {
   "cell_type": "markdown",
   "metadata": {
    "slideshow": {
     "slide_type": "subslide"
    }
   },
   "source": [
    "### Group level outputs\n",
    "Let's look at `reports/T1w_group.html`\n",
    "\n",
    "**Click on the outlier points**"
   ]
  }
 ],
 "metadata": {
  "kernelspec": {
   "display_name": "Python [default]",
   "language": "python",
   "name": "python3"
  },
  "language_info": {
   "codemirror_mode": {
    "name": "ipython",
    "version": 3
   },
   "file_extension": ".py",
   "mimetype": "text/x-python",
   "name": "python",
   "nbconvert_exporter": "python",
   "pygments_lexer": "ipython3",
   "version": "3.5.4"
  }
 },
 "nbformat": 4,
 "nbformat_minor": 2
}
